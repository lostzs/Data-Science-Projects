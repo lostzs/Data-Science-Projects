{
 "cells": [
  {
   "cell_type": "code",
   "execution_count": 2,
   "id": "a05a9f27",
   "metadata": {},
   "outputs": [
    {
     "data": {
      "text/html": [
       "<div>\n",
       "<style scoped>\n",
       "    .dataframe tbody tr th:only-of-type {\n",
       "        vertical-align: middle;\n",
       "    }\n",
       "\n",
       "    .dataframe tbody tr th {\n",
       "        vertical-align: top;\n",
       "    }\n",
       "\n",
       "    .dataframe thead th {\n",
       "        text-align: right;\n",
       "    }\n",
       "</style>\n",
       "<table border=\"1\" class=\"dataframe\">\n",
       "  <thead>\n",
       "    <tr style=\"text-align: right;\">\n",
       "      <th></th>\n",
       "      <th>heart_disease</th>\n",
       "      <th>age</th>\n",
       "      <th>gender</th>\n",
       "      <th>cp</th>\n",
       "      <th>trestbps</th>\n",
       "      <th>chol</th>\n",
       "      <th>fbs</th>\n",
       "      <th>restecg</th>\n",
       "      <th>thalach</th>\n",
       "      <th>exang</th>\n",
       "      <th>oldpeak</th>\n",
       "      <th>slope</th>\n",
       "      <th>ca</th>\n",
       "      <th>thal</th>\n",
       "    </tr>\n",
       "  </thead>\n",
       "  <tbody>\n",
       "    <tr>\n",
       "      <th>0</th>\n",
       "      <td>0</td>\n",
       "      <td>63</td>\n",
       "      <td>1</td>\n",
       "      <td>1</td>\n",
       "      <td>145</td>\n",
       "      <td>233</td>\n",
       "      <td>1</td>\n",
       "      <td>2</td>\n",
       "      <td>150</td>\n",
       "      <td>0</td>\n",
       "      <td>2.3</td>\n",
       "      <td>3</td>\n",
       "      <td>0</td>\n",
       "      <td>6</td>\n",
       "    </tr>\n",
       "    <tr>\n",
       "      <th>1</th>\n",
       "      <td>1</td>\n",
       "      <td>67</td>\n",
       "      <td>1</td>\n",
       "      <td>4</td>\n",
       "      <td>160</td>\n",
       "      <td>286</td>\n",
       "      <td>0</td>\n",
       "      <td>2</td>\n",
       "      <td>108</td>\n",
       "      <td>1</td>\n",
       "      <td>1.5</td>\n",
       "      <td>2</td>\n",
       "      <td>3</td>\n",
       "      <td>3</td>\n",
       "    </tr>\n",
       "    <tr>\n",
       "      <th>2</th>\n",
       "      <td>1</td>\n",
       "      <td>67</td>\n",
       "      <td>1</td>\n",
       "      <td>4</td>\n",
       "      <td>120</td>\n",
       "      <td>229</td>\n",
       "      <td>0</td>\n",
       "      <td>2</td>\n",
       "      <td>129</td>\n",
       "      <td>1</td>\n",
       "      <td>2.6</td>\n",
       "      <td>2</td>\n",
       "      <td>2</td>\n",
       "      <td>7</td>\n",
       "    </tr>\n",
       "    <tr>\n",
       "      <th>3</th>\n",
       "      <td>0</td>\n",
       "      <td>37</td>\n",
       "      <td>1</td>\n",
       "      <td>3</td>\n",
       "      <td>130</td>\n",
       "      <td>250</td>\n",
       "      <td>0</td>\n",
       "      <td>0</td>\n",
       "      <td>187</td>\n",
       "      <td>0</td>\n",
       "      <td>3.5</td>\n",
       "      <td>3</td>\n",
       "      <td>0</td>\n",
       "      <td>3</td>\n",
       "    </tr>\n",
       "    <tr>\n",
       "      <th>4</th>\n",
       "      <td>0</td>\n",
       "      <td>41</td>\n",
       "      <td>0</td>\n",
       "      <td>2</td>\n",
       "      <td>130</td>\n",
       "      <td>204</td>\n",
       "      <td>0</td>\n",
       "      <td>2</td>\n",
       "      <td>172</td>\n",
       "      <td>0</td>\n",
       "      <td>1.4</td>\n",
       "      <td>1</td>\n",
       "      <td>0</td>\n",
       "      <td>3</td>\n",
       "    </tr>\n",
       "  </tbody>\n",
       "</table>\n",
       "</div>"
      ],
      "text/plain": [
       "   heart_disease  age  gender  cp  trestbps  chol  fbs  restecg  thalach  \\\n",
       "0              0   63       1   1       145   233    1        2      150   \n",
       "1              1   67       1   4       160   286    0        2      108   \n",
       "2              1   67       1   4       120   229    0        2      129   \n",
       "3              0   37       1   3       130   250    0        0      187   \n",
       "4              0   41       0   2       130   204    0        2      172   \n",
       "\n",
       "   exang  oldpeak  slope  ca  thal  \n",
       "0      0      2.3      3   0     6  \n",
       "1      1      1.5      2   3     3  \n",
       "2      1      2.6      2   2     7  \n",
       "3      0      3.5      3   0     3  \n",
       "4      0      1.4      1   0     3  "
      ]
     },
     "execution_count": 2,
     "metadata": {},
     "output_type": "execute_result"
    }
   ],
   "source": [
    "import pandas as pd\n",
    "import numpy as np\n",
    "import matplotlib.pyplot as plt\n",
    "import seaborn as sn\n",
    "df = pd.read_csv('heart_attack.csv')\n",
    "df.head()"
   ]
  },
  {
   "cell_type": "code",
   "execution_count": 5,
   "id": "0e9b24ac",
   "metadata": {},
   "outputs": [],
   "source": [
    "X=df[['age', 'gender', 'cp']]\n",
    "Y=df['heart_disease']\n",
    "Y=np.array((Y-Y.mean())/Y.std())\n",
    "X=X.apply(lambda rec:(rec-rec.mean())/rec.std(),axis=0)"
   ]
  },
  {
   "cell_type": "code",
   "execution_count": 6,
   "id": "b8fb2f75",
   "metadata": {},
   "outputs": [
    {
     "name": "stdout",
     "output_type": "stream",
     "text": [
      "Bias:  0.5305228941610468 Weights:  [0.80350815 0.00782957 0.29214644]\n"
     ]
    }
   ],
   "source": [
    "import random \n",
    "def initialize(dim):\n",
    "    b=random.random()\n",
    "    theta=np.random.rand(dim)\n",
    "    return b, theta\n",
    "b,theta = initialize(3)\n",
    "print(\"Bias: \",b,\"Weights: \", theta)"
   ]
  },
  {
   "cell_type": "code",
   "execution_count": 7,
   "id": "7d3996c3",
   "metadata": {},
   "outputs": [
    {
     "data": {
      "text/plain": [
       "array([ 0.63339729,  1.89690902,  1.89690902, -1.06951826, -1.03386471,\n",
       "        0.31466767,  1.43625689,  0.99231677,  1.54175692,  0.65387667,\n",
       "        1.00902877,  0.29795566,  0.61745421, -0.75078863,  0.26230211,\n",
       "        0.70624223, -0.39563653,  0.7426647 , -0.109562  , -0.30684851])"
      ]
     },
     "execution_count": 7,
     "metadata": {},
     "output_type": "execute_result"
    }
   ],
   "source": [
    "def predict_Y(b,theta,X):\n",
    "    return b + np.dot(X,theta)\n",
    "Y_hat=predict_Y(b,theta,X)\n",
    "Y_hat[0:20]"
   ]
  },
  {
   "cell_type": "code",
   "execution_count": 8,
   "id": "3252a354",
   "metadata": {},
   "outputs": [
    {
     "data": {
      "text/plain": [
       "1.4510643282377507"
      ]
     },
     "execution_count": 8,
     "metadata": {},
     "output_type": "execute_result"
    }
   ],
   "source": [
    "import math\n",
    "def get_cost(Y,Y_hat):\n",
    "    Y_resd = Y-Y_hat\n",
    "    return np.sum(np.dot(Y_resd.T,Y_resd))/len(Y-Y_resd)\n",
    "Y_hat=predict_Y(b,theta,X)\n",
    "get_cost(Y,Y_hat)"
   ]
  },
  {
   "cell_type": "code",
   "execution_count": 9,
   "id": "761bebe0",
   "metadata": {},
   "outputs": [
    {
     "name": "stdout",
     "output_type": "stream",
     "text": [
      "After initialization -Bias:  0.5305228941610468 theta:  [0.80350815 0.00782957 0.29214644]\n",
      "After first update -Bias:  0.5199124362778259 theta:  [0.79138943 0.01465209 0.29270385]\n"
     ]
    },
    {
     "data": {
      "text/plain": [
       "1.4510643282377507"
      ]
     },
     "execution_count": 9,
     "metadata": {},
     "output_type": "execute_result"
    }
   ],
   "source": [
    "def update_theta(x,y,y_hat,b_0,theta_0,learning_rate):\n",
    "    db=(np.sum(y_hat-y)*2)/len(y)\n",
    "    dw=(np.dot((y_hat-y),x)*2)/len(y)\n",
    "    b_1=b_0-learning_rate*db\n",
    "    theta_1=theta_0-learning_rate*dw\n",
    "    return b_1, theta_1\n",
    "print(\"After initialization -Bias: \",b, \"theta: \", theta)\n",
    "Y_hat=predict_Y(b,theta,X)\n",
    "b, theta = update_theta(X,Y,Y_hat,b,theta,0.01)\n",
    "print(\"After first update -Bias: \", b, \"theta: \", theta)\n",
    "get_cost(Y,Y_hat)"
   ]
  },
  {
   "cell_type": "code",
   "execution_count": 10,
   "id": "a9a708e8",
   "metadata": {},
   "outputs": [
    {
     "name": "stdout",
     "output_type": "stream",
     "text": [
      "Final Estimate of b and theta:  0.36017838109011463 [0.26899753 0.11707997 0.75018695]\n"
     ]
    }
   ],
   "source": [
    "def run_gradient_descent(X,Y,alpha,num_iterations):\n",
    "    b,theta = initialize(X.shape[1])\n",
    "    iter_num = 0\n",
    "    gd_iterations_df = pd.DataFrame(columns = ['iteration', 'cost'])\n",
    "    result_idx = 0\n",
    "    for each_iter in range(num_iterations):\n",
    "        Y_hat = predict_Y(b, theta, X)\n",
    "        this_cost = get_cost(Y, Y_hat)\n",
    "        prev_b = b\n",
    "        prev_theta = theta\n",
    "        b, theta = update_theta(X, Y, Y_hat, prev_b, prev_theta, alpha)\n",
    "        iter_num += 1\n",
    "        if(iter_num % 10 == 0):\n",
    "            gd_iterations_df.loc[result_idx] = [iter_num, this_cost]\n",
    "            result_idx = result_idx + 1\n",
    "            \n",
    "    print (\"Final Estimate of b and theta: \", b, theta)\n",
    "    return gd_iterations_df, b, theta\n",
    "\n",
    "gd_iterations_df, b, theta = run_gradient_descent(X, Y, alpha = 0.001, num_iterations = 200)\n"
   ]
  },
  {
   "cell_type": "code",
   "execution_count": 11,
   "id": "d007e64e",
   "metadata": {},
   "outputs": [
    {
     "data": {
      "text/html": [
       "<div>\n",
       "<style scoped>\n",
       "    .dataframe tbody tr th:only-of-type {\n",
       "        vertical-align: middle;\n",
       "    }\n",
       "\n",
       "    .dataframe tbody tr th {\n",
       "        vertical-align: top;\n",
       "    }\n",
       "\n",
       "    .dataframe thead th {\n",
       "        text-align: right;\n",
       "    }\n",
       "</style>\n",
       "<table border=\"1\" class=\"dataframe\">\n",
       "  <thead>\n",
       "    <tr style=\"text-align: right;\">\n",
       "      <th></th>\n",
       "      <th>iteration</th>\n",
       "      <th>cost</th>\n",
       "    </tr>\n",
       "  </thead>\n",
       "  <tbody>\n",
       "    <tr>\n",
       "      <th>0</th>\n",
       "      <td>10.0</td>\n",
       "      <td>1.379463</td>\n",
       "    </tr>\n",
       "    <tr>\n",
       "      <th>1</th>\n",
       "      <td>20.0</td>\n",
       "      <td>1.352357</td>\n",
       "    </tr>\n",
       "    <tr>\n",
       "      <th>2</th>\n",
       "      <td>30.0</td>\n",
       "      <td>1.326359</td>\n",
       "    </tr>\n",
       "    <tr>\n",
       "      <th>3</th>\n",
       "      <td>40.0</td>\n",
       "      <td>1.301423</td>\n",
       "    </tr>\n",
       "    <tr>\n",
       "      <th>4</th>\n",
       "      <td>50.0</td>\n",
       "      <td>1.277507</td>\n",
       "    </tr>\n",
       "    <tr>\n",
       "      <th>5</th>\n",
       "      <td>60.0</td>\n",
       "      <td>1.254568</td>\n",
       "    </tr>\n",
       "    <tr>\n",
       "      <th>6</th>\n",
       "      <td>70.0</td>\n",
       "      <td>1.232565</td>\n",
       "    </tr>\n",
       "    <tr>\n",
       "      <th>7</th>\n",
       "      <td>80.0</td>\n",
       "      <td>1.211461</td>\n",
       "    </tr>\n",
       "    <tr>\n",
       "      <th>8</th>\n",
       "      <td>90.0</td>\n",
       "      <td>1.191218</td>\n",
       "    </tr>\n",
       "    <tr>\n",
       "      <th>9</th>\n",
       "      <td>100.0</td>\n",
       "      <td>1.171800</td>\n",
       "    </tr>\n",
       "  </tbody>\n",
       "</table>\n",
       "</div>"
      ],
      "text/plain": [
       "   iteration      cost\n",
       "0       10.0  1.379463\n",
       "1       20.0  1.352357\n",
       "2       30.0  1.326359\n",
       "3       40.0  1.301423\n",
       "4       50.0  1.277507\n",
       "5       60.0  1.254568\n",
       "6       70.0  1.232565\n",
       "7       80.0  1.211461\n",
       "8       90.0  1.191218\n",
       "9      100.0  1.171800"
      ]
     },
     "execution_count": 11,
     "metadata": {},
     "output_type": "execute_result"
    }
   ],
   "source": [
    "gd_iterations_df[0:10]"
   ]
  },
  {
   "cell_type": "code",
   "execution_count": 12,
   "id": "b51fd2a4",
   "metadata": {},
   "outputs": [
    {
     "data": {
      "text/plain": [
       "Text(0, 0.5, 'Cost or MSE')"
      ]
     },
     "execution_count": 12,
     "metadata": {},
     "output_type": "execute_result"
    },
    {
     "data": {
      "image/png": "[encoded data removed]",
      "text/plain": [
       "<Figure size 640x480 with 1 Axes>"
      ]
     },
     "metadata": {},
     "output_type": "display_data"
    }
   ],
   "source": [
    "%matplotlib inline\n",
    "plt.plot(gd_iterations_df['iteration'],gd_iterations_df['cost'])\n",
    "plt.xlabel(\"Number of iterations\")\n",
    "plt.ylabel(\"Cost or MSE\")"
   ]
  },
  {
   "cell_type": "code",
   "execution_count": 13,
   "id": "cfaaa329",
   "metadata": {},
   "outputs": [
    {
     "name": "stdout",
     "output_type": "stream",
     "text": [
      "Final Estimate of b and theta:  5.561802146456199e-17 [0.21200086 0.29464458 0.38290007]\n",
      "Final Estimate of b and theta:  0.002476789632181803 [0.21136639 0.29300408 0.39047009]\n"
     ]
    },
    {
     "data": {
      "text/plain": [
       "Text(0.5, 1.0, 'Cost Vs. Iterations for different alpha values')"
      ]
     },
     "execution_count": 13,
     "metadata": {},
     "output_type": "execute_result"
    },
    {
     "data": {
      "image/png": "[encoded data removed]",
      "text/plain": [
       "<Figure size 640x480 with 1 Axes>"
      ]
     },
     "metadata": {},
     "output_type": "display_data"
    }
   ],
   "source": [
    "alpha_df_1,b,theta=run_gradient_descent(X,Y,alpha=0.01,num_iterations=2000)\n",
    "\n",
    "alpha_df_2,b,theta=run_gradient_descent(X,Y,alpha=0.001,num_iterations=2000)\n",
    "\n",
    "plt.plot(alpha_df_1['iteration'],alpha_df_1['cost'],label=\"alpha=0.01\")\n",
    "plt.plot(alpha_df_2['iteration'],alpha_df_2['cost'],label=\"alpha=0.001\")\n",
    "plt.legend()\n",
    "plt.ylabel('cost')\n",
    "plt.xlabel('Number of iterations')\n",
    "plt.title('Cost Vs. Iterations for different alpha values')"
   ]
  },
  {
   "cell_type": "code",
   "execution_count": null,
   "id": "04d8d7d7",
   "metadata": {},
   "outputs": [],
   "source": []
  }
 ],
 "metadata": {
  "kernelspec": {
   "display_name": "Python 3 (ipykernel)",
   "language": "python",
   "name": "python3"
  },
  "language_info": {
   "codemirror_mode": {
    "name": "ipython",
    "version": 3
   },
   "file_extension": ".py",
   "mimetype": "text/x-python",
   "name": "python",
   "nbconvert_exporter": "python",
   "pygments_lexer": "ipython3",
   "version": "3.11.4"
  }
 },
 "nbformat": 4,
 "nbformat_minor": 5
}
