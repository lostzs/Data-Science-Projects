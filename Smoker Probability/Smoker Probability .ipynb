{
 "cells": [
  {
   "cell_type": "code",
   "execution_count": 15,
   "id": "f29d6508",
   "metadata": {},
   "outputs": [],
   "source": [
    "import numpy as np\n",
    "import matplotlib.pyplot as plt\n",
    "import pandas as pd\n",
    "from sklearn.model_selection import train_test_split\n",
    "from sklearn.preprocessing import StandardScaler\n",
    "from sklearn.linear_model import LogisticRegression\n",
    "from sklearn.metrics import confusion_matrix, accuracy_score"
   ]
  },
  {
   "cell_type": "code",
   "execution_count": 16,
   "id": "5f89366e",
   "metadata": {},
   "outputs": [
    {
     "data": {
      "text/html": [
       "<div>\n",
       "<style scoped>\n",
       "    .dataframe tbody tr th:only-of-type {\n",
       "        vertical-align: middle;\n",
       "    }\n",
       "\n",
       "    .dataframe tbody tr th {\n",
       "        vertical-align: top;\n",
       "    }\n",
       "\n",
       "    .dataframe thead th {\n",
       "        text-align: right;\n",
       "    }\n",
       "</style>\n",
       "<table border=\"1\" class=\"dataframe\">\n",
       "  <thead>\n",
       "    <tr style=\"text-align: right;\">\n",
       "      <th></th>\n",
       "      <th>age</th>\n",
       "      <th>sex</th>\n",
       "      <th>bmi</th>\n",
       "      <th>children</th>\n",
       "      <th>smoker</th>\n",
       "      <th>region</th>\n",
       "      <th>charges</th>\n",
       "    </tr>\n",
       "  </thead>\n",
       "  <tbody>\n",
       "    <tr>\n",
       "      <th>0</th>\n",
       "      <td>19</td>\n",
       "      <td>female</td>\n",
       "      <td>27.900</td>\n",
       "      <td>0</td>\n",
       "      <td>1</td>\n",
       "      <td>southwest</td>\n",
       "      <td>16884.920</td>\n",
       "    </tr>\n",
       "    <tr>\n",
       "      <th>1</th>\n",
       "      <td>18</td>\n",
       "      <td>male</td>\n",
       "      <td>33.770</td>\n",
       "      <td>1</td>\n",
       "      <td>0</td>\n",
       "      <td>southeast</td>\n",
       "      <td>1725.552</td>\n",
       "    </tr>\n",
       "    <tr>\n",
       "      <th>2</th>\n",
       "      <td>28</td>\n",
       "      <td>male</td>\n",
       "      <td>33.000</td>\n",
       "      <td>3</td>\n",
       "      <td>0</td>\n",
       "      <td>southeast</td>\n",
       "      <td>4449.462</td>\n",
       "    </tr>\n",
       "    <tr>\n",
       "      <th>3</th>\n",
       "      <td>33</td>\n",
       "      <td>male</td>\n",
       "      <td>22.705</td>\n",
       "      <td>0</td>\n",
       "      <td>0</td>\n",
       "      <td>northwest</td>\n",
       "      <td>21984.470</td>\n",
       "    </tr>\n",
       "    <tr>\n",
       "      <th>4</th>\n",
       "      <td>32</td>\n",
       "      <td>male</td>\n",
       "      <td>28.880</td>\n",
       "      <td>0</td>\n",
       "      <td>0</td>\n",
       "      <td>northwest</td>\n",
       "      <td>3866.855</td>\n",
       "    </tr>\n",
       "    <tr>\n",
       "      <th>...</th>\n",
       "      <td>...</td>\n",
       "      <td>...</td>\n",
       "      <td>...</td>\n",
       "      <td>...</td>\n",
       "      <td>...</td>\n",
       "      <td>...</td>\n",
       "      <td>...</td>\n",
       "    </tr>\n",
       "    <tr>\n",
       "      <th>1333</th>\n",
       "      <td>50</td>\n",
       "      <td>male</td>\n",
       "      <td>30.970</td>\n",
       "      <td>3</td>\n",
       "      <td>0</td>\n",
       "      <td>northwest</td>\n",
       "      <td>10600.550</td>\n",
       "    </tr>\n",
       "    <tr>\n",
       "      <th>1334</th>\n",
       "      <td>18</td>\n",
       "      <td>female</td>\n",
       "      <td>31.920</td>\n",
       "      <td>0</td>\n",
       "      <td>0</td>\n",
       "      <td>northeast</td>\n",
       "      <td>2205.981</td>\n",
       "    </tr>\n",
       "    <tr>\n",
       "      <th>1335</th>\n",
       "      <td>18</td>\n",
       "      <td>female</td>\n",
       "      <td>36.850</td>\n",
       "      <td>0</td>\n",
       "      <td>0</td>\n",
       "      <td>southeast</td>\n",
       "      <td>1629.834</td>\n",
       "    </tr>\n",
       "    <tr>\n",
       "      <th>1336</th>\n",
       "      <td>21</td>\n",
       "      <td>female</td>\n",
       "      <td>25.800</td>\n",
       "      <td>0</td>\n",
       "      <td>0</td>\n",
       "      <td>southwest</td>\n",
       "      <td>2007.945</td>\n",
       "    </tr>\n",
       "    <tr>\n",
       "      <th>1337</th>\n",
       "      <td>61</td>\n",
       "      <td>female</td>\n",
       "      <td>29.070</td>\n",
       "      <td>0</td>\n",
       "      <td>1</td>\n",
       "      <td>northwest</td>\n",
       "      <td>29141.360</td>\n",
       "    </tr>\n",
       "  </tbody>\n",
       "</table>\n",
       "<p>1338 rows × 7 columns</p>\n",
       "</div>"
      ],
      "text/plain": [
       "      age     sex     bmi  children  smoker     region    charges\n",
       "0      19  female  27.900         0       1  southwest  16884.920\n",
       "1      18    male  33.770         1       0  southeast   1725.552\n",
       "2      28    male  33.000         3       0  southeast   4449.462\n",
       "3      33    male  22.705         0       0  northwest  21984.470\n",
       "4      32    male  28.880         0       0  northwest   3866.855\n",
       "...   ...     ...     ...       ...     ...        ...        ...\n",
       "1333   50    male  30.970         3       0  northwest  10600.550\n",
       "1334   18  female  31.920         0       0  northeast   2205.981\n",
       "1335   18  female  36.850         0       0  southeast   1629.834\n",
       "1336   21  female  25.800         0       0  southwest   2007.945\n",
       "1337   61  female  29.070         0       1  northwest  29141.360\n",
       "\n",
       "[1338 rows x 7 columns]"
      ]
     },
     "execution_count": 16,
     "metadata": {},
     "output_type": "execute_result"
    }
   ],
   "source": [
    "dataset = pd.read_csv('medinsur.csv')\n",
    "dataset['smoker'] = dataset['smoker'].replace({'yes' : 1, 'no': 0})\n",
    "dataset"
   ]
  },
  {
   "cell_type": "code",
   "execution_count": 17,
   "id": "4b4c6a0a",
   "metadata": {},
   "outputs": [],
   "source": [
    "male_data = dataset[dataset['sex'] == 'male']\n",
    "\n",
    "female_data = dataset[dataset['sex'] == 'female']"
   ]
  },
  {
   "cell_type": "code",
   "execution_count": 18,
   "id": "01030244",
   "metadata": {},
   "outputs": [],
   "source": [
    "xmale = male_data[[\"age\",\"bmi\",\"children\"]].values\n",
    "ymale = male_data.iloc[:,4].values"
   ]
  },
  {
   "cell_type": "code",
   "execution_count": 19,
   "id": "eeaa7b1b",
   "metadata": {},
   "outputs": [],
   "source": [
    "xfemale = female_data[[\"age\",\"bmi\",\"children\"]].values\n",
    "yfemale = female_data.iloc[:,4].values"
   ]
  },
  {
   "cell_type": "code",
   "execution_count": 20,
   "id": "f7870176",
   "metadata": {},
   "outputs": [],
   "source": [
    "x_train, x_test, y_train, y_test = train_test_split(xmale,ymale,test_size = 0.25, \n",
    "                                                    random_state=0)\n",
    "sc = StandardScaler()\n",
    "x_train = sc.fit_transform(x_train)\n",
    "x_test = sc.transform(x_test)"
   ]
  },
  {
   "cell_type": "code",
   "execution_count": 21,
   "id": "389530f0",
   "metadata": {},
   "outputs": [],
   "source": [
    "#Seperate set for female\n",
    "xf_train, xf_test, yf_train, yf_test = train_test_split(xfemale,yfemale,test_size = 0.25, \n",
    "                                                    random_state=0)\n",
    "sc = StandardScaler()\n",
    "xf_train = sc.fit_transform(xf_train)\n",
    "xf_test = sc.transform(xf_test)"
   ]
  },
  {
   "cell_type": "code",
   "execution_count": 22,
   "id": "5a22a9ca",
   "metadata": {},
   "outputs": [
    {
     "data": {
      "text/html": [
       "<style>#sk-container-id-2 {color: black;}#sk-container-id-2 pre{padding: 0;}#sk-container-id-2 div.sk-toggleable {background-color: white;}#sk-container-id-2 label.sk-toggleable__label {cursor: pointer;display: block;width: 100%;margin-bottom: 0;padding: 0.3em;box-sizing: border-box;text-align: center;}#sk-container-id-2 label.sk-toggleable__label-arrow:before {content: \"▸\";float: left;margin-right: 0.25em;color: #696969;}#sk-container-id-2 label.sk-toggleable__label-arrow:hover:before {color: black;}#sk-container-id-2 div.sk-estimator:hover label.sk-toggleable__label-arrow:before {color: black;}#sk-container-id-2 div.sk-toggleable__content {max-height: 0;max-width: 0;overflow: hidden;text-align: left;background-color: #f0f8ff;}#sk-container-id-2 div.sk-toggleable__content pre {margin: 0.2em;color: black;border-radius: 0.25em;background-color: #f0f8ff;}#sk-container-id-2 input.sk-toggleable__control:checked~div.sk-toggleable__content {max-height: 200px;max-width: 100%;overflow: auto;}#sk-container-id-2 input.sk-toggleable__control:checked~label.sk-toggleable__label-arrow:before {content: \"▾\";}#sk-container-id-2 div.sk-estimator input.sk-toggleable__control:checked~label.sk-toggleable__label {background-color: #d4ebff;}#sk-container-id-2 div.sk-label input.sk-toggleable__control:checked~label.sk-toggleable__label {background-color: #d4ebff;}#sk-container-id-2 input.sk-hidden--visually {border: 0;clip: rect(1px 1px 1px 1px);clip: rect(1px, 1px, 1px, 1px);height: 1px;margin: -1px;overflow: hidden;padding: 0;position: absolute;width: 1px;}#sk-container-id-2 div.sk-estimator {font-family: monospace;background-color: #f0f8ff;border: 1px dotted black;border-radius: 0.25em;box-sizing: border-box;margin-bottom: 0.5em;}#sk-container-id-2 div.sk-estimator:hover {background-color: #d4ebff;}#sk-container-id-2 div.sk-parallel-item::after {content: \"\";width: 100%;border-bottom: 1px solid gray;flex-grow: 1;}#sk-container-id-2 div.sk-label:hover label.sk-toggleable__label {background-color: #d4ebff;}#sk-container-id-2 div.sk-serial::before {content: \"\";position: absolute;border-left: 1px solid gray;box-sizing: border-box;top: 0;bottom: 0;left: 50%;z-index: 0;}#sk-container-id-2 div.sk-serial {display: flex;flex-direction: column;align-items: center;background-color: white;padding-right: 0.2em;padding-left: 0.2em;position: relative;}#sk-container-id-2 div.sk-item {position: relative;z-index: 1;}#sk-container-id-2 div.sk-parallel {display: flex;align-items: stretch;justify-content: center;background-color: white;position: relative;}#sk-container-id-2 div.sk-item::before, #sk-container-id-2 div.sk-parallel-item::before {content: \"\";position: absolute;border-left: 1px solid gray;box-sizing: border-box;top: 0;bottom: 0;left: 50%;z-index: -1;}#sk-container-id-2 div.sk-parallel-item {display: flex;flex-direction: column;z-index: 1;position: relative;background-color: white;}#sk-container-id-2 div.sk-parallel-item:first-child::after {align-self: flex-end;width: 50%;}#sk-container-id-2 div.sk-parallel-item:last-child::after {align-self: flex-start;width: 50%;}#sk-container-id-2 div.sk-parallel-item:only-child::after {width: 0;}#sk-container-id-2 div.sk-dashed-wrapped {border: 1px dashed gray;margin: 0 0.4em 0.5em 0.4em;box-sizing: border-box;padding-bottom: 0.4em;background-color: white;}#sk-container-id-2 div.sk-label label {font-family: monospace;font-weight: bold;display: inline-block;line-height: 1.2em;}#sk-container-id-2 div.sk-label-container {text-align: center;}#sk-container-id-2 div.sk-container {/* jupyter's `normalize.less` sets `[hidden] { display: none; }` but bootstrap.min.css set `[hidden] { display: none !important; }` so we also need the `!important` here to be able to override the default hidden behavior on the sphinx rendered scikit-learn.org. See: https://github.com/scikit-learn/scikit-learn/issues/21755 */display: inline-block !important;position: relative;}#sk-container-id-2 div.sk-text-repr-fallback {display: none;}</style><div id=\"sk-container-id-2\" class=\"sk-top-container\"><div class=\"sk-text-repr-fallback\"><pre>LogisticRegression(random_state=0)</pre><b>In a Jupyter environment, please rerun this cell to show the HTML representation or trust the notebook. <br />On GitHub, the HTML representation is unable to render, please try loading this page with nbviewer.org.</b></div><div class=\"sk-container\" hidden><div class=\"sk-item\"><div class=\"sk-estimator sk-toggleable\"><input class=\"sk-toggleable__control sk-hidden--visually\" id=\"sk-estimator-id-2\" type=\"checkbox\" checked><label for=\"sk-estimator-id-2\" class=\"sk-toggleable__label sk-toggleable__label-arrow\">LogisticRegression</label><div class=\"sk-toggleable__content\"><pre>LogisticRegression(random_state=0)</pre></div></div></div></div></div>"
      ],
      "text/plain": [
       "LogisticRegression(random_state=0)"
      ]
     },
     "execution_count": 22,
     "metadata": {},
     "output_type": "execute_result"
    }
   ],
   "source": [
    "classifier = LogisticRegression(random_state = 0)\n",
    "classifier.fit(x_train, y_train)\n",
    "\n",
    "#Logistic regression Female\n",
    "classifierfe = LogisticRegression(random_state = 0)\n",
    "classifierfe.fit(xf_train, yf_train)"
   ]
  },
  {
   "cell_type": "code",
   "execution_count": 23,
   "id": "29fa7b83",
   "metadata": {},
   "outputs": [
    {
     "name": "stdout",
     "output_type": "stream",
     "text": [
      "[[131   0]\n",
      " [ 38   0]]\n"
     ]
    },
    {
     "data": {
      "text/plain": [
       "0.7751479289940828"
      ]
     },
     "execution_count": 23,
     "metadata": {},
     "output_type": "execute_result"
    }
   ],
   "source": [
    "#Accuracy set for male\n",
    "y_pred = classifier.predict(x_test)\n",
    "cm = confusion_matrix(y_test, y_pred)\n",
    "print(cm)\n",
    "\n",
    "accuracy_score(y_test, y_pred)"
   ]
  },
  {
   "cell_type": "code",
   "execution_count": 24,
   "id": "e81aea29",
   "metadata": {},
   "outputs": [
    {
     "name": "stdout",
     "output_type": "stream",
     "text": [
      "[[133   0]\n",
      " [ 33   0]]\n"
     ]
    },
    {
     "data": {
      "text/plain": [
       "0.8012048192771084"
      ]
     },
     "execution_count": 24,
     "metadata": {},
     "output_type": "execute_result"
    }
   ],
   "source": [
    "#Accuracy set for female\n",
    "yf_pred = classifierfe.predict(xf_test)\n",
    "cmf = confusion_matrix(yf_test, yf_pred)\n",
    "print(cmf)\n",
    "\n",
    "accuracy_score(yf_test, yf_pred)"
   ]
  },
  {
   "cell_type": "code",
   "execution_count": 25,
   "id": "9d4c3438",
   "metadata": {},
   "outputs": [
    {
     "name": "stdout",
     "output_type": "stream",
     "text": [
      "Logistic Regression Equation: P(Y=1) = 1 / (1 + e^(-(-1.1646 + -0.0447 + 0.0653 + 0.1096* X)))\n"
     ]
    }
   ],
   "source": [
    "#Male Logistic Equation\n",
    "b0 = classifier.intercept_[0]\n",
    "b1 = classifier.coef_[0][0]\n",
    "b2 = classifier.coef_[0][1]\n",
    "b3 = classifier.coef_[0][2]\n",
    "\n",
    "print(f\"Logistic Regression Equation: P(Y=1) = 1 / (1 + e^(-({b0:.4f} + {b1:.4f} + {b2:.4f} + {b3:.4f}* X)))\")"
   ]
  },
  {
   "cell_type": "code",
   "execution_count": 26,
   "id": "0192bc71",
   "metadata": {},
   "outputs": [
    {
     "name": "stdout",
     "output_type": "stream",
     "text": [
      "Logistic Regression Equation: P(Y=1) = 1 / (1 + e^(-(-1.6287 + -0.0828 + -0.1135 + -0.0745* X)))\n"
     ]
    }
   ],
   "source": [
    "#Female Logistic Equation\n",
    "b0f = classifierfe.intercept_[0]\n",
    "b1f = classifierfe.coef_[0][0]\n",
    "b2f = classifierfe.coef_[0][1]\n",
    "b3f = classifierfe.coef_[0][2]\n",
    "\n",
    "print(f\"Logistic Regression Equation: P(Y=1) = 1 / (1 + e^(-({b0f:.4f} + {b1f:.4f} + {b2f:.4f} + {b3f:.4f}* X)))\")"
   ]
  },
  {
   "cell_type": "code",
   "execution_count": 29,
   "id": "aa33e244",
   "metadata": {},
   "outputs": [
    {
     "name": "stdout",
     "output_type": "stream",
     "text": [
      "Please enter your gender (Male/Female): N/A\n",
      "Invalid input. Please enter 'Male' or 'Female'.\n",
      "Please enter your gender (Male/Female): female\n",
      "Please enter your Age here: 27\n",
      "What is your current bmi?: 30\n",
      "How many Children do you have?: 2\n",
      "Smoker Probability: 0.0600%\n"
     ]
    }
   ],
   "source": [
    "def smokerprobabilitymale(age, bmi, children):\n",
    "    # Assuming b0, b1, b2, b3 are defined somewhere in your code\n",
    "    X1 = age\n",
    "    X2 = bmi\n",
    "    X3 = children\n",
    "    under = -(b0 + b1*X1 + b2*X2 + b3*X3)\n",
    "    probability = 1 / (1 + np.exp(under))\n",
    "    return probability\n",
    "\n",
    "def smokerprobabilityfemale(age, bmi, children):\n",
    "    # Assuming b0f, b1f, b2f, b3f are defined somewhere in your code\n",
    "    X1 = age\n",
    "    X2 = bmi\n",
    "    X3 = children\n",
    "    under = -(b0f + b1f*X1 + b2f*X2 + b3f*X3)\n",
    "    probability = 1 / (1 + np.exp(under))\n",
    "    return probability\n",
    "\n",
    "while True:\n",
    "    gender = input(\"Please enter your gender (Male/Female): \").lower()\n",
    "    if gender == 'male':\n",
    "        age = float(input(\"Please enter your Age here: \"))\n",
    "        bmi = float(input(\"What is your current bmi?: \"))\n",
    "        child = float(input(\"How many Children do you have?: \"))\n",
    "\n",
    "        percentage = smokerprobabilitymale(age, bmi, child)\n",
    "\n",
    "        print(f\"Smoker Probability: {100*percentage:.4f}%\")\n",
    "        break\n",
    "    \n",
    "    elif gender == 'female':\n",
    "        age = float(input(\"Please enter your Age here: \"))\n",
    "        bmi = float(input(\"What is your current bmi?: \"))\n",
    "        child = float(input(\"How many Children do you have?: \"))\n",
    "\n",
    "        percentage = smokerprobabilityfemale(age, bmi, child)\n",
    "\n",
    "        print(f\"Smoker Probability: {100*percentage:.4f}%\")\n",
    "        break\n",
    "\n",
    "    else:\n",
    "        print(\"Invalid input. Please enter 'Male' or 'Female'.\")"
   ]
  },
  {
   "cell_type": "code",
   "execution_count": null,
   "id": "b6598985",
   "metadata": {
    "scrolled": true
   },
   "outputs": [],
   "source": []
  },
  {
   "cell_type": "code",
   "execution_count": null,
   "id": "0a1d3f61",
   "metadata": {},
   "outputs": [],
   "source": []
  }
 ],
 "metadata": {
  "kernelspec": {
   "display_name": "Python 3 (ipykernel)",
   "language": "python",
   "name": "python3"
  },
  "language_info": {
   "codemirror_mode": {
    "name": "ipython",
    "version": 3
   },
   "file_extension": ".py",
   "mimetype": "text/x-python",
   "name": "python",
   "nbconvert_exporter": "python",
   "pygments_lexer": "ipython3",
   "version": "3.11.4"
  }
 },
 "nbformat": 4,
 "nbformat_minor": 5
}
