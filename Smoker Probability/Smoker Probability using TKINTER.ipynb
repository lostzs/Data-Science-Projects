{
 "cells": [
  {
   "cell_type": "code",
   "execution_count": null,
   "id": "f29d6508",
   "metadata": {},
   "outputs": [],
   "source": [
    "import numpy as np\n",
    "import matplotlib.pyplot as plt\n",
    "import pandas as pd\n",
    "from sklearn.model_selection import train_test_split\n",
    "from sklearn.preprocessing import StandardScaler\n",
    "from sklearn.linear_model import LogisticRegression\n",
    "from sklearn.metrics import confusion_matrix, accuracy_score"
   ]
  },
  {
   "cell_type": "code",
   "execution_count": null,
   "id": "5f89366e",
   "metadata": {},
   "outputs": [],
   "source": [
    "dataset = pd.read_csv('medinsur.csv')\n",
    "dataset['smoker'] = dataset['smoker'].replace({'yes' : 1, 'no': 0})\n",
    "dataset"
   ]
  },
  {
   "cell_type": "code",
   "execution_count": null,
   "id": "4b4c6a0a",
   "metadata": {},
   "outputs": [],
   "source": [
    "male_data = dataset[dataset['sex'] == 'male']\n",
    "\n",
    "female_data = dataset[dataset['sex'] == 'female']"
   ]
  },
  {
   "cell_type": "code",
   "execution_count": null,
   "id": "01030244",
   "metadata": {},
   "outputs": [],
   "source": [
    "xmale = male_data[[\"age\",\"bmi\",\"children\"]].values\n",
    "ymale = male_data.iloc[:,4].values"
   ]
  },
  {
   "cell_type": "code",
   "execution_count": null,
   "id": "eeaa7b1b",
   "metadata": {},
   "outputs": [],
   "source": [
    "xfemale = female_data[[\"age\",\"bmi\",\"children\"]].values\n",
    "yfemale = female_data.iloc[:,4].values"
   ]
  },
  {
   "cell_type": "code",
   "execution_count": null,
   "id": "f7870176",
   "metadata": {},
   "outputs": [],
   "source": [
    "x_train, x_test, y_train, y_test = train_test_split(xmale,ymale,test_size = 0.25, \n",
    "                                                    random_state=0)\n",
    "sc = StandardScaler()\n",
    "x_train = sc.fit_transform(x_train)\n",
    "x_test = sc.transform(x_test)"
   ]
  },
  {
   "cell_type": "code",
   "execution_count": null,
   "id": "389530f0",
   "metadata": {},
   "outputs": [],
   "source": [
    "#Seperate set for female\n",
    "xf_train, xf_test, yf_train, yf_test = train_test_split(xfemale,yfemale,test_size = 0.25, \n",
    "                                                    random_state=0)\n",
    "sc = StandardScaler()\n",
    "xf_train = sc.fit_transform(xf_train)\n",
    "xf_test = sc.transform(xf_test)"
   ]
  },
  {
   "cell_type": "code",
   "execution_count": null,
   "id": "5a22a9ca",
   "metadata": {},
   "outputs": [],
   "source": [
    "classifier = LogisticRegression(random_state = 0)\n",
    "classifier.fit(x_train, y_train)\n",
    "\n",
    "#Seperate set for female\n",
    "classifierfe = LogisticRegression(random_state = 0)\n",
    "classifierfe.fit(xf_train, yf_train)"
   ]
  },
  {
   "cell_type": "code",
   "execution_count": null,
   "id": "29fa7b83",
   "metadata": {},
   "outputs": [],
   "source": [
    "#for male\n",
    "y_pred = classifier.predict(x_test)\n",
    "cm = confusion_matrix(y_test, y_pred)\n",
    "print(cm)\n",
    "\n",
    "accuracy_score(y_test, y_pred)"
   ]
  },
  {
   "cell_type": "code",
   "execution_count": null,
   "id": "e81aea29",
   "metadata": {},
   "outputs": [],
   "source": [
    "#Seperate set for female\n",
    "yf_pred = classifierfe.predict(xf_test)\n",
    "cmf = confusion_matrix(yf_test, yf_pred)\n",
    "print(cmf)\n",
    "\n",
    "accuracy_score(yf_test, yf_pred)"
   ]
  },
  {
   "cell_type": "code",
   "execution_count": null,
   "id": "9d4c3438",
   "metadata": {},
   "outputs": [],
   "source": [
    "b0 = classifier.intercept_[0]\n",
    "b1 = classifier.coef_[0][0]\n",
    "b2 = classifier.coef_[0][1]\n",
    "b3 = classifier.coef_[0][2]\n",
    "\n",
    "print(f\"Logistic Regression Equation: P(Y=1) = 1 / (1 + e^(-({b0:.4f} + {b1:.4f} + {b2:.4f} + {b3:.4f}* X)))\")"
   ]
  },
  {
   "cell_type": "code",
   "execution_count": null,
   "id": "0192bc71",
   "metadata": {},
   "outputs": [],
   "source": [
    "b0f = classifierfe.intercept_[0]\n",
    "b1f = classifierfe.coef_[0][0]\n",
    "b2f = classifierfe.coef_[0][1]\n",
    "b3f = classifierfe.coef_[0][2]\n",
    "\n",
    "print(f\"Logistic Regression Equation: P(Y=1) = 1 / (1 + e^(-({b0f:.4f} + {b1f:.4f} + {b2f:.4f} + {b3f:.4f}* X)))\")"
   ]
  },
  {
   "cell_type": "code",
   "execution_count": null,
   "id": "aa33e244",
   "metadata": {},
   "outputs": [],
   "source": [
    "def smokerprobmale (age, bmi, children):\n",
    "    X1 = age\n",
    "    X2 = bmi\n",
    "    X3 = children\n",
    "    under = -(b0 + b1*X1 + b2*X2 + b3*X3)\n",
    "    probability = 1 / (1 + np.exp(under))\n",
    "    return probability\n",
    "\n",
    "\n",
    "age = float(input(\"Enter your Age here: \"))\n",
    "bmi = float(input(\"Enter your bmi here: \"))\n",
    "child = float(input(\"Enter your child here: \"))\n",
    "\n",
    "percentage = smokerprobmale (age, bmi, child)\n",
    "\n",
    "print(f\"Smoker Probability {100*percentage:.4f}\")"
   ]
  },
  {
   "cell_type": "code",
   "execution_count": null,
   "id": "b6598985",
   "metadata": {},
   "outputs": [],
   "source": [
    "def smokerprobfemale (age, bmi, children):\n",
    "    X1 = age\n",
    "    X2 = bmi\n",
    "    X3 = children\n",
    "    under = -(b0f + b1f*X1 + b2f*X2 + b3f*X3)\n",
    "    probability = 1 / (1 + np.exp(under))\n",
    "    return probability\n",
    "\n",
    "\n",
    "age = float(input(\"Enter your Age here: \"))\n",
    "bmi = float(input(\"Enter your bmi here: \"))\n",
    "child = float(input(\"Enter your child here: \"))\n",
    "\n",
    "percentage = smokerprobfemale (age, bmi, child)\n",
    "\n",
    "print(f\"Probability of IDK {100*percentage:.4f}\")"
   ]
  },
  {
   "cell_type": "code",
   "execution_count": null,
   "id": "0a1d3f61",
   "metadata": {},
   "outputs": [],
   "source": [
    "import tkinter as tk\n",
    "from tkinter import ttk\n",
    "import numpy as np\n",
    "\n",
    "def calculate_probability():\n",
    "    age = float(age_entry.get())\n",
    "    bmi = float(bmi_entry.get())\n",
    "    children = float(children_entry.get())\n",
    "\n",
    "    # Get user input for coefficients\n",
    "    b0 = float(b0_entry.get())\n",
    "    b1 = float(b1_entry.get())\n",
    "    b2 = float(b2_entry.get())\n",
    "    b3 = float(b3_entry.get())\n",
    "\n",
    "    under = -(b0 + b1*age + b2*bmi + b3*children)\n",
    "    probability = 1 / (1 + np.exp(under))\n",
    "\n",
    "    result_label.config(text=f\"Probability: {100*probability:.4f}%\")\n",
    "\n",
    "# Create the main window\n",
    "root = tk.Tk()\n",
    "root.title(\"Smoker Probability Calculator\")\n",
    "\n",
    "# Create labels and entry fields\n",
    "age_label = ttk.Label(root, text=\"Enter Age:\")\n",
    "age_label.grid(row=0, column=0, padx=10, pady=5)\n",
    "\n",
    "age_entry = ttk.Entry(root)\n",
    "age_entry.grid(row=0, column=1, padx=10, pady=5)\n",
    "\n",
    "bmi_label = ttk.Label(root, text=\"Enter BMI:\")\n",
    "bmi_label.grid(row=1, column=0, padx=10, pady=5)\n",
    "\n",
    "bmi_entry = ttk.Entry(root)\n",
    "bmi_entry.grid(row=1, column=1, padx=10, pady=5)\n",
    "\n",
    "children_label = ttk.Label(root, text=\"Enter Number of Children:\")\n",
    "children_label.grid(row=2, column=0, padx=10, pady=5)\n",
    "\n",
    "children_entry = ttk.Entry(root)\n",
    "children_entry.grid(row=2, column=1, padx=10, pady=5)\n",
    "\n",
    "# Entry fields for coefficients\n",
    "b0_label = ttk.Label(root, text=\"Enter b0:\")\n",
    "b0_label.grid(row=3, column=0, padx=10, pady=5)\n",
    "\n",
    "b0_entry = ttk.Entry(root)\n",
    "b0_entry.grid(row=3, column=1, padx=10, pady=5)\n",
    "\n",
    "b1_label = ttk.Label(root, text=\"Enter b1:\")\n",
    "b1_label.grid(row=4, column=0, padx=10, pady=5)\n",
    "\n",
    "b1_entry = ttk.Entry(root)\n",
    "b1_entry.grid(row=4, column=1, padx=10, pady=5)\n",
    "\n",
    "b2_label = ttk.Label(root, text=\"Enter b2:\")\n",
    "b2_label.grid(row=5, column=0, padx=10, pady=5)\n",
    "\n",
    "b2_entry = ttk.Entry(root)\n",
    "b2_entry.grid(row=5, column=1, padx=10, pady=5)\n",
    "\n",
    "b3_label = ttk.Label(root, text=\"Enter b3:\")\n",
    "b3_label.grid(row=6, column=0, padx=10, pady=5)\n",
    "\n",
    "b3_entry = ttk.Entry(root)\n",
    "b3_entry.grid(row=6, column=1, padx=10, pady=5)\n",
    "\n",
    "calculate_button = ttk.Button(root, text=\"Calculate Probability\", command=calculate_probability)\n",
    "calculate_button.grid(row=7, column=0, columnspan=2, pady=10)\n",
    "\n",
    "result_label = ttk.Label(root, text=\"Probability: \")\n",
    "result_label.grid(row=8, column=0, columnspan=2)\n",
    "\n",
    "# Start the GUI main loop\n",
    "root.mainloop()"
   ]
  },
  {
   "cell_type": "code",
   "execution_count": null,
   "id": "450b217c",
   "metadata": {},
   "outputs": [],
   "source": []
  }
 ],
 "metadata": {
  "kernelspec": {
   "display_name": "Python 3 (ipykernel)",
   "language": "python",
   "name": "python3"
  },
  "language_info": {
   "codemirror_mode": {
    "name": "ipython",
    "version": 3
   },
   "file_extension": ".py",
   "mimetype": "text/x-python",
   "name": "python",
   "nbconvert_exporter": "python",
   "pygments_lexer": "ipython3",
   "version": "3.11.4"
  }
 },
 "nbformat": 4,
 "nbformat_minor": 5
}
